{
 "cells": [
  {
   "cell_type": "markdown",
   "metadata": {},
   "source": [
    "# Linked List\n",
    "Linked lists are made up of nodes, where each node contains a reference to the next node in the list. In addition, each node contains a unit of data called the cargo.\n",
    "\n",
    "A linked list is considered a recursive data structure because it has a recursive definition.\n",
    "\n",
    "A linked list is either:\n",
    "\n",
    "    1. the empty list, represented by None, or\n",
    "    2. a node that contains a cargo object and a reference to a linked list.\n",
    "\n",
    "Recursive data structures lend themselves to recursive methods."
   ]
  },
  {
   "cell_type": "code",
   "execution_count": 1,
   "metadata": {},
   "outputs": [],
   "source": [
    "class NodeExm:\n",
    "    \n",
    "    def __init__(self, cargo=None, next=None):\n",
    "        \n",
    "        self.cargo = cargo\n",
    "        self.next = next\n",
    "        \n",
    "    def __str__(self):\n",
    "        return str(self.cargo)"
   ]
  },
  {
   "cell_type": "code",
   "execution_count": 2,
   "metadata": {},
   "outputs": [
    {
     "name": "stdout",
     "output_type": "stream",
     "text": [
      "Customer\n"
     ]
    }
   ],
   "source": [
    "# sample passing\n",
    "node = NodeExm(\"Customer\")\n",
    "\n",
    "print(node)"
   ]
  },
  {
   "cell_type": "code",
   "execution_count": 3,
   "metadata": {},
   "outputs": [],
   "source": [
    "node1 = NodeExm('page_view')\n",
    "node2 = NodeExm('ad_click')\n",
    "node3 = NodeExm('keyword_lick')"
   ]
  },
  {
   "cell_type": "code",
   "execution_count": 4,
   "metadata": {},
   "outputs": [],
   "source": [
    "node1.next = node2\n",
    "node2.next = node3"
   ]
  },
  {
   "cell_type": "markdown",
   "metadata": {},
   "source": [
    "**Why do we need linked list?**\n",
    "\n",
    "Lists are useful because they provide a way to assemble multiple objects into a single entity, sometimes called a collection. In the example, the first node of the list serves as a reference to the entire list. \n",
    "> Node is a hidden object which is useful in defining the element before adding it or updating it to the existing linked list; In simple word before adding anything data to the linked list to need to set it as node first.\n",
    "\n",
    "*Note: To pass the list as a parameter, we only have to pass a reference to the first node.* \n",
    "\n",
    "For example, the function print_list takes a single node as an argument. Starting with the head of the list, it prints each node until it gets to the end:\n"
   ]
  },
  {
   "cell_type": "code",
   "execution_count": 5,
   "metadata": {},
   "outputs": [],
   "source": [
    "# application of Linked List --\n",
    "def print_list(node):\n",
    "    \n",
    "    while node!=None: #we can also write this as while node:\n",
    "        print(node)\n",
    "        node=node.next\n",
    "    print"
   ]
  },
  {
   "cell_type": "code",
   "execution_count": 6,
   "metadata": {},
   "outputs": [
    {
     "name": "stdout",
     "output_type": "stream",
     "text": [
      "page_view\n",
      "ad_click\n",
      "keyword_lick\n"
     ]
    }
   ],
   "source": [
    "print_list(node1)"
   ]
  },
  {
   "cell_type": "markdown",
   "metadata": {},
   "source": [
    "Now, let us start creating linked list with python. As python does not have Linked List in its default libraries. We need to create it from scrap(its a best way to learn class in python BTW)"
   ]
  },
  {
   "cell_type": "code",
   "execution_count": 7,
   "metadata": {},
   "outputs": [],
   "source": [
    "# class node with default values are None\n",
    "class Node:\n",
    "    '''\n",
    "    DOCSTRING:\n",
    "    @cargo: cargo is the data point you want to add.\n",
    "    @next: if not passed will be None\n",
    "    '''\n",
    "\n",
    "    def __init__(self,cargo=None,next=None):\n",
    "\n",
    "        self.cargo = cargo\n",
    "        self.next = next\n",
    "\n",
    "class LinkedList:\n",
    "    '''\n",
    "    DOCSTRING:\n",
    "    Defines the head of the Linked List\n",
    "    '''\n",
    "\n",
    "    def __init__(self):\n",
    "        self.head= None\n",
    "        \n",
    "# function to add the data at the head of the linked list\n",
    "    def insert_at_head(self,cargo):\n",
    "        node = Node(cargo,self.head)\n",
    "        self.head = node\n",
    "        \n",
    "# func to add the data at the tail of the linked list     \n",
    "    def insert_at_end(self,cargo):\n",
    "        node = Node(cargo,None)\n",
    "        if self.head is None:\n",
    "            self.head = node\n",
    "    \n",
    "        cur = self.head\n",
    "        while cur.next:\n",
    "            cur = cur.next\n",
    "        cur.next = node\n",
    "        \n",
    "# func to get the length of the linked list           \n",
    "    def find_len(self):\n",
    "        if self.head is None:\n",
    "            return 'Linked List is empty!'\n",
    "        \n",
    "        count = 0\n",
    "        cur = self.head\n",
    "        while cur:\n",
    "            cur = cur.next\n",
    "            count += 1\n",
    "        return count\n",
    "    \n",
    "# func to get indexing of the list\n",
    "    def get_index(self,index):\n",
    "        if index<0 or index>=self.find_len():\n",
    "            raise IndexError('Index is out-of-bound')\n",
    "        \n",
    "        count = 0    \n",
    "        cur = self.head\n",
    "        while cur:\n",
    "            if count == index:\n",
    "                return cur.cargo\n",
    "            \n",
    "            cur = cur.next\n",
    "            count += 1\n",
    "\n",
    "# func to get indexing of the list\n",
    "    def remove_at(self,index):\n",
    "        if index<0 or index>=self.find_len():\n",
    "            raise IndexError('Index is out-of-bound')\n",
    "        \n",
    "        if index == 0:\n",
    "            self.head = self.head.next\n",
    "            return\n",
    "        \n",
    "        count = 0\n",
    "        cur = self.head\n",
    "        while cur:\n",
    "            if count == index-1:\n",
    "                cur.next = cur.next.next\n",
    "                print(f'The element at index {index} have been removed successfully!')\n",
    "                break\n",
    "                \n",
    "            cur = cur.next\n",
    "            count += 1\n",
    "            \n",
    "# func to test the linked list object\n",
    "    def update_at(self,cargo,index):\n",
    "        node = Node(cargo,None)\n",
    "        if index<0:\n",
    "            raise IndexError('Index is out-of-bound')\n",
    "        \n",
    "        if index == 0:\n",
    "            self.insert_at_head(cargo)\n",
    "            return\n",
    "        \n",
    "        if index > self.find_len():\n",
    "            self.insert_at_end(cargo)\n",
    "            print(f'Given element has been added to the tail of the linked list (Index Position: {self.find_len()-1})')\n",
    "            return\n",
    "        \n",
    "        count = 0\n",
    "        cur = self.head\n",
    "        while cur:\n",
    "            if count == index-1:\n",
    "                node.next = cur.next.next\n",
    "                cur.next = node\n",
    "                break\n",
    "            \n",
    "            cur = cur.next\n",
    "            count += 1\n",
    "        \n",
    "# func to find the middle value of the linked list    \n",
    "    def get_midcargo(self):\n",
    "        if self.head == None:\n",
    "            return \"Linked list is empty\"\n",
    "        \n",
    "        slow_cur = self.head\n",
    "        fast_cur = self.head\n",
    "#         cur = self.head\n",
    "#         count = 0\n",
    "        while fast_cur:\n",
    "#             if count == round(self.find_len()/2):\n",
    "#                 return cur.cargo\n",
    "#             count += 1\n",
    "#             cur = cur.next\n",
    "                    \n",
    "            slow_cur = slow_cur.next\n",
    "            fast_cur = slow_cur.next.next.next\n",
    "            \n",
    "        return slow_cur.cargo\n",
    "            \n",
    "        \n",
    "# func to test the linked list object\n",
    "    def print(self):\n",
    "        if self.head is None:\n",
    "            print(\"Linked list is empty\")\n",
    "            return\n",
    "\n",
    "        cur = self.head\n",
    "        llstr = ''\n",
    "        while cur:\n",
    "            llstr += str(cur.cargo) + '-->'\n",
    "            cur = cur.next\n",
    "\n",
    "        print(llstr)"
   ]
  },
  {
   "cell_type": "code",
   "execution_count": 8,
   "metadata": {},
   "outputs": [],
   "source": [
    "ll = LinkedList()"
   ]
  },
  {
   "cell_type": "code",
   "execution_count": 9,
   "metadata": {},
   "outputs": [
    {
     "name": "stdout",
     "output_type": "stream",
     "text": [
      "3-->1-->10-->8890909-->88909-->787979-->\n"
     ]
    }
   ],
   "source": [
    "ll.insert_at_head(1)\n",
    "ll.insert_at_head(3)\n",
    "ll.insert_at_end(10)\n",
    "ll.insert_at_end(8890909)\n",
    "ll.insert_at_end(88909)\n",
    "ll.insert_at_end(787979)\n",
    "ll.print()"
   ]
  },
  {
   "cell_type": "code",
   "execution_count": 10,
   "metadata": {},
   "outputs": [
    {
     "data": {
      "text/plain": [
       "6"
      ]
     },
     "execution_count": 10,
     "metadata": {},
     "output_type": "execute_result"
    }
   ],
   "source": [
    "ll.find_len()              "
   ]
  },
  {
   "cell_type": "code",
   "execution_count": 11,
   "metadata": {},
   "outputs": [
    {
     "data": {
      "text/plain": [
       "88909"
      ]
     },
     "execution_count": 11,
     "metadata": {},
     "output_type": "execute_result"
    }
   ],
   "source": [
    "ll.get_index(4)"
   ]
  },
  {
   "cell_type": "code",
   "execution_count": 12,
   "metadata": {},
   "outputs": [
    {
     "name": "stdout",
     "output_type": "stream",
     "text": [
      "The element at index 4 have been removed successfully!\n"
     ]
    }
   ],
   "source": [
    "ll.remove_at(4)"
   ]
  },
  {
   "cell_type": "code",
   "execution_count": 13,
   "metadata": {},
   "outputs": [
    {
     "name": "stdout",
     "output_type": "stream",
     "text": [
      "3-->1-->10-->8890909-->787979-->\n"
     ]
    }
   ],
   "source": [
    "ll.print()"
   ]
  },
  {
   "cell_type": "code",
   "execution_count": 14,
   "metadata": {},
   "outputs": [],
   "source": [
    "ll.update_at(1093935,4)"
   ]
  },
  {
   "cell_type": "code",
   "execution_count": 15,
   "metadata": {},
   "outputs": [
    {
     "name": "stdout",
     "output_type": "stream",
     "text": [
      "3-->1-->10-->8890909-->1093935-->\n"
     ]
    }
   ],
   "source": [
    "ll.print()"
   ]
  },
  {
   "cell_type": "code",
   "execution_count": 16,
   "metadata": {},
   "outputs": [
    {
     "name": "stdout",
     "output_type": "stream",
     "text": [
      "Given element has been added to the tail of the linked list (Index Position: 5)\n"
     ]
    }
   ],
   "source": [
    "ll.update_at(109,123)"
   ]
  },
  {
   "cell_type": "code",
   "execution_count": 17,
   "metadata": {},
   "outputs": [
    {
     "data": {
      "text/plain": [
       "109"
      ]
     },
     "execution_count": 17,
     "metadata": {},
     "output_type": "execute_result"
    }
   ],
   "source": [
    "ll.get_index(5)"
   ]
  },
  {
   "cell_type": "code",
   "execution_count": 18,
   "metadata": {},
   "outputs": [
    {
     "data": {
      "text/plain": [
       "8890909"
      ]
     },
     "execution_count": 18,
     "metadata": {},
     "output_type": "execute_result"
    }
   ],
   "source": [
    "ll.get_midcargo()"
   ]
  },
  {
   "cell_type": "code",
   "execution_count": 19,
   "metadata": {},
   "outputs": [
    {
     "name": "stdout",
     "output_type": "stream",
     "text": [
      "3-->1-->10-->8890909-->1093935-->109-->\n"
     ]
    }
   ],
   "source": [
    "ll.print()"
   ]
  },
  {
   "cell_type": "markdown",
   "metadata": {},
   "source": [
    "Reference:\n",
    ">> https://youtu.be/qp8u-frRAnU\n",
    "\n",
    ">> http://www.openbookproject.net/thinkcs/python/english2e/ch18.html\n",
    ">> https://www.tutorialspoint.com/python_data_structure/python_linked_lists.htm\n",
    ">> https://www.tutorialspoint.com/python/python_nodes.htm"
   ]
  }
 ],
 "metadata": {
  "kernelspec": {
   "display_name": "Python 3",
   "language": "python",
   "name": "python3"
  },
  "language_info": {
   "codemirror_mode": {
    "name": "ipython",
    "version": 3
   },
   "file_extension": ".py",
   "mimetype": "text/x-python",
   "name": "python",
   "nbconvert_exporter": "python",
   "pygments_lexer": "ipython3",
   "version": "3.7.3"
  }
 },
 "nbformat": 4,
 "nbformat_minor": 4
}
